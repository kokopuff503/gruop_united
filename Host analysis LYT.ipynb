{
 "cells": [
  {
   "cell_type": "code",
   "execution_count": 1,
   "metadata": {},
   "outputs": [],
   "source": [
    "import pandas as pd\n",
    "import numpy as np\n",
    "import matplotlib.pyplot as plt\n",
    "%matplotlib inline"
   ]
  },
  {
   "cell_type": "code",
   "execution_count": 4,
   "metadata": {},
   "outputs": [],
   "source": [
    "data = pd.read_csv(r\"C:\\Users\\Owner\\Desktop\\project 1\\data.csv\")"
   ]
  },
  {
   "cell_type": "code",
   "execution_count": 8,
   "metadata": {},
   "outputs": [],
   "source": [
    "host_counts = data['host_id'].value_counts()\n",
    "house_host_counts = pd.DataFrame(host_counts)['host_id'].value_counts()\n",
    "MAX_HOUSE_NUM = 10"
   ]
  },
  {
   "cell_type": "code",
   "execution_count": 9,
   "metadata": {},
   "outputs": [],
   "source": [
    "counter = dict()\n",
    "for i in range(1, MAX_HOUSE_NUM+1):\n",
    "    counter[i] = 0\n",
    "\n",
    "for house, hosts in house_host_counts.items():\n",
    "    if house >= MAX_HOUSE_NUM:\n",
    "        counter[MAX_HOUSE_NUM] += hosts\n",
    "    else:\n",
    "        counter[house] += hosts\n"
   ]
  },
  {
   "cell_type": "code",
   "execution_count": 10,
   "metadata": {},
   "outputs": [
    {
     "data": {
      "image/png": "[encoded data removed]",
      "text/plain": [
       "<Figure size 432x288 with 1 Axes>"
      ]
     },
     "metadata": {
      "needs_background": "light"
     },
     "output_type": "display_data"
    }
   ],
   "source": [
    "\n",
    "plt.bar(counter.keys(), counter.values())\n",
    "plt.xticks([i for i in range(1, MAX_HOUSE_NUM+1)],\n",
    "           [i for i in range(1, MAX_HOUSE_NUM)] + ['{}+'.format(MAX_HOUSE_NUM)])\n",
    "plt.show()\n",
    "\n"
   ]
  }
 ],
 "metadata": {
  "kernelspec": {
   "display_name": "Python 3",
   "language": "python",
   "name": "python3"
  },
  "language_info": {
   "codemirror_mode": {
    "name": "ipython",
    "version": 3
   },
   "file_extension": ".py",
   "mimetype": "text/x-python",
   "name": "python",
   "nbconvert_exporter": "python",
   "pygments_lexer": "ipython3",
   "version": "3.7.3"
  }
 },
 "nbformat": 4,
 "nbformat_minor": 2
}
